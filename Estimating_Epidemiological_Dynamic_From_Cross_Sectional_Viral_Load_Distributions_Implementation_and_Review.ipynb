{
  "nbformat": 4,
  "nbformat_minor": 0,
  "metadata": {
    "colab": {
      "name": "Estimating Epidemiological Dynamic From Cross-Sectional Viral Load Distributions Implementation and Review.ipynb",
      "provenance": [],
      "collapsed_sections": [],
      "authorship_tag": "ABX9TyMdh1FGuCuDRHn+LKvpbJ9m",
      "include_colab_link": true
    },
    "kernelspec": {
      "name": "python3",
      "display_name": "Python 3"
    }
  },
  "cells": [
    {
      "cell_type": "markdown",
      "metadata": {
        "id": "view-in-github",
        "colab_type": "text"
      },
      "source": [
        "<a href=\"https://colab.research.google.com/github/annajli/annajli.github.io/blob/master/Estimating_Epidemiological_Dynamic_From_Cross_Sectional_Viral_Load_Distributions_Implementation_and_Review.ipynb\" target=\"_parent\"><img src=\"https://colab.research.google.com/assets/colab-badge.svg\" alt=\"Open In Colab\"/></a>"
      ]
    },
    {
      "cell_type": "markdown",
      "metadata": {
        "id": "_JXsgfeLFhqn"
      },
      "source": [
        "# Implementation and Review of *Estimating Epidemiological Dynamic From Cross-Sectional Viral Load Distributions*\n",
        "---\n",
        "[Paper Link](https://www.medrxiv.org/content/10.1101/2020.10.08.20204222v2.full.pdf)\n",
        "\n",
        "[Code for Real Data, Simulated Data, Analysis](https://github.com/jameshay218/virosolver_paper)\n",
        "\n",
        "[Code for MCMC Framework in R](https://github.com/jameshay218/lazymcmc)"
      ]
    },
    {
      "cell_type": "markdown",
      "metadata": {
        "id": "McuK2A8cF76Q"
      },
      "source": [
        "# Paper Summary\n",
        "---\n",
        "## Main Point\n",
        "---\n",
        "During a pandemic, accruate estimation of epidemic growth rates is extremely informative and drives major policies and procedures. In order to measure this growth rate, many use $R_t$ (time-varying effective reprodcutive number) usually based on reverse-transcription quantitative polymerase chain reaction (RT-qPRC) testing. \n",
        "\n",
        "### $R_t$ is flawed\n",
        "---\n",
        "$$\\begin{cases}\n",
        "\\bullet \\text{reporting delays} \\\\\n",
        "\\bullet \\text{limited testing capabilities and reliability} \\\\\n",
        "\\bullet \\text{changing test availability}\n",
        "\\end{cases} \\implies \n",
        "\\text{changes in case counts may not accruately reflect depidemic dynamics}\n",
        "$$\n",
        "* $R_t$ is calculated using the nubmer of new positives among the tests conducted each day; however this data represents the growth rate of positive tests and not the incidence of infection. \n",
        "* Any case count based methods exhibit bias. \n",
        "* $R_t$ requires adjustements to account for changes in testing capacity, delay between infection and test report date, and conversion from prevalence to incidence.\n",
        "\n",
        "### New Method and Contribution\n",
        "---\n",
        "1) Demonstrate that population-level changes in distribution of $Ct$ values can arise as epidemiological phenomenon\n",
        "* $Ct$ (cycle threshold) values measure viral load.\n",
        "* They argue that $Ct$ values for indicating epidemic decline is better\n",
        "  * $Ct$ directly maps between the distribution of $Ct$ values and infection incidence $\\implies$ $Ct$ based methods are agnostic to changing test rates and provide unbiased growth rate estimates.\n",
        "\n",
        "2) New Method using $Ct$ values\n",
        "* New method is not biased and can obtain accurate estimates of epidemic trajectory\n",
        "* New method uses discarded testing data from single or successive cross-sectional samples for simulation; so it does not require repeat measurements/testing\n",
        "* Uses population level distribution of $Ct$ values which in many samples indicate a population with predominantly low viral loads. (It has been shown that a systemic incline in distribution of $Ct$ values is correlated with epidemic decline)"
      ]
    },
    {
      "cell_type": "markdown",
      "metadata": {
        "id": "A7FWSsCsJ9Pc"
      },
      "source": [
        "## Relationship Between $Ct$ Values and Epidemic Dynamics\n",
        "---\n",
        "### Generating $Ct$ Values\n",
        "---\n",
        "* First simulate infections values under a deterministic **susceptible-exposed-infectious-recovered (SEIR)** model.\n",
        "* At selected testing days during the outbreak, simulated $Ct$ values are observed from a random sample of the population using the **Ct distribution model**.\n",
        "* These simulated samples at time point $t$ recreate realistic cross-sectional distributions of detectable viral loads across the course of an epidemic. \n",
        "* Individual $Ct$ values have high uncertainty, so they use population-level observed $Ct$ values.\n",
        "* $Ct$ distribution becomes estimable function $f$ of times since infection, that is used to estimate epidemic growth rate. \n",
        "\n",
        "### Other Considerations\n",
        "---\n",
        "* Viral load measurements based on Symptom-based Surveillance is annother idea.\n",
        "* However there is a distribution of delays between infection date and tests date and confirmation delay $\\implies$ time-since-infection distribution of individuals tested based on symptom onset (measure viral load) is influence by stage of the epidemic. "
      ]
    },
    {
      "cell_type": "markdown",
      "metadata": {
        "id": "os1kjt_xNohj"
      },
      "source": [
        "## Inferring Epidemic Trajetory Using a Single Cross-Section of RT-qPCR Test Results\n",
        "---\n",
        "Combines two models:\n",
        "\n",
        "1) The likelihood of observing a $Ct$ value or negative result | having been infected on a given day\n",
        "  * Bayesian model and defined priors for the mode and range of $Ct$ values following infection literature\n",
        "\n",
        "2) The likelihood of being infected on a given day prior to the sample day\n",
        "  * constant exponential grwoth of infection incidence\n",
        "    * possible shape of outbreak trajectory is constant growth rate\n",
        "  * infection using a SEIR model\n",
        "    * assumes growth rate changes daily depending on remaining number of susceptible individuals\n",
        "\n",
        "### Step 1: Estimate prevalence and incidence using standard compartmental (SEEIRR) model fit to prevalence at three sampling times\n",
        "\n",
        "### Step 2: Each sampling time generates $Ct$ samples which gives a distribution (Cross Section)\n",
        "\n",
        "### Step 3: Fit expontential growth and simple SEIR models using the $Ct$ likelihood of each cross section to get posterior distributions for the epidemic trajectory up to that time point\n",
        "\n",
        "### Step 4: Evaluate prediction by comparing prediction and data growth rates and prevelant points\n",
        "\n",
        "<img src=\"https://drive.google.com/uc?export=view&id=19l0hHkmVW3D2fKyBTA3bSwUAKyHNt5p9\">"
      ]
    },
    {
      "cell_type": "markdown",
      "metadata": {
        "id": "D3v-IAvqYuYq"
      },
      "source": [
        "## Inferring Epidemic Trajectory Using Multiple Cross-Sections\n",
        "---\n",
        "* Extend new method to combine data from multiple-cross sections which allows for more reliably estimated epidemic trajectory\n",
        "* Use this method to recover parameters from SEIR-based simulations\n",
        "* Compare preformance of $R_t$ estimation using reported case counts with performance of their model when one, two , or three surveillance samples are available with observed $Ct$ values.\n",
        "\n",
        "### Results\n",
        "---\n",
        "* Except when only one sampel is used, $Ct$-based methods fit to an SEIR model exhibit minimal bias\n",
        "* Reported case count methods exhibit noticeable bias.\n",
        "* $Ct$ based methods exhibit higher variability.\n",
        "* All of $Ct$ based methods achieve at least nominal coverage of the 95% credible intervals among 100 simulations.\n",
        "* Reported case count methods have coverage below 70%. "
      ]
    },
    {
      "cell_type": "markdown",
      "metadata": {
        "id": "yT_npcwTcuSj"
      },
      "source": [
        "## Reconstructing Complex Incidence Curves $Ct$ Values\n",
        "---\n",
        "* We want to understand incidence trends usually with sparse data.\n",
        "* Objective: Reconstruct the entire incidence curve using routinely collected RT-qPRC data.\n",
        "* Simple epidemic models are effective with relatiely closed populations where epidemic start time is approximately known.\n",
        "* However epidemics usually follow a more complex trajectory, difficult to model parametrically and doesn't account of non-pharmaceutical interventions unless specified in the model.\n",
        "\n",
        "### Solution: Use a Gaussian Process to estiamte daily probabilites of infection without making strong assumptions about the epidemic trajectory.\n",
        "\n",
        "#### First use observed $Ct$ values to esimate the daily growth rate of infections using the SEIR model on single cross-sections\n",
        "\n",
        "#### Second use multiple cross sections to fit a GP model and estimate full epidemic trajectory by sequentially updating the model with new samples"
      ]
    },
    {
      "cell_type": "markdown",
      "metadata": {
        "id": "VfX-pJnJf5up"
      },
      "source": [
        "## Discussion\n",
        "---\n",
        "* RT-qPCR $Ct$ values are highly informative of population-level dynamics and can estimate epdiemic growth rates independent of assumptions about the intensity of testing\n",
        "\n",
        "### Disclaimers on Using $Ct$\n",
        "---\n",
        "* Should be cautious when observed $Ct$ values are not from a population census or largely random sample\n",
        "* Testing is based primarily on the presence of symptoms or follow up contacts of infected individuals which would skew the distribution and not be representative of the population as a whole. \n",
        "* Most effective when sureillance samples are obtained independent of COVID-19 symptoms. \n",
        "* Different swab types, sample types, instruments. or $Ct$ thresholds may alter the variability of the $Ct$ distribution.\n",
        "\n",
        "#### How to Improve Results\n",
        "---\n",
        "* **choosing a good prior**: setting specific calibrations e.g. based on a reference range of $Ct$ values; using results of a viral kinetics model to inform priors on key parameters when estimating growth rates\n",
        "* incorporate individual-level features that may affect viral load e.g. symptom status, age, antiviral treatment, etc.\n",
        "* use multiple types of tests (e.g. antigen and PCR) and reduce uncertainty\n",
        "* if variant strains are associated with different viral load kinetics and become common, we need to incorporate those as well\n",
        "\n",
        "#### Limitations of Method\n",
        "---\n",
        "* Bayesian framework is highly sensitive to priors and parametric assumptions. If chosen incorrectly, inference may not be reliable.\n",
        "* Incidence and skewness of $Ct$ distribution become unreliable when there are very few positive cases\n",
        "  * Fix: use a MCMC algorithm to accurately estimate parameters of prior distribution of a hierarchal model\n",
        "* May overstate uncertainty in viral load distribution if restuls from different machines are used to inform the prior\n",
        "  * Fix: underestand why different settings are comparable to better infrom the prior.\n",
        "*$Ct$ values cannot be relied on for individual-level decision making"
      ]
    },
    {
      "cell_type": "markdown",
      "metadata": {
        "id": "GQBAm5PSR28U"
      },
      "source": [
        "# Implementation\n",
        "---"
      ]
    },
    {
      "cell_type": "code",
      "metadata": {
        "id": "gq9iIu-URxLx"
      },
      "source": [
        "# initalize tools\n",
        "import numpy as np\n",
        "import pandas as pd\n",
        "import pymc3 as pm\n",
        "import scipy as sp\n",
        "import matplotlib.pyplot as plt\n",
        "from pymc3 import model_to_graphviz, Model\n",
        "\n",
        "np.random.seed(123)"
      ],
      "execution_count": 1,
      "outputs": []
    },
    {
      "cell_type": "markdown",
      "metadata": {
        "id": "EPPycRzFlRXm"
      },
      "source": [
        "## Data & Obtaining Prevalence\n",
        "---\n",
        "We use the Nursing Home Data that comes from nasopharyngeal speciments processed at the Broad Institute of MIT and Harvard CRSP CLIA labratory. Nursing Home Data is from serial testing serial testing senior nursing facilities.\n"
      ]
    },
    {
      "cell_type": "code",
      "metadata": {
        "id": "UW8h9ngtmivB"
      },
      "source": [
        "df = pd.read_csv('nursing_home_data.csv')"
      ],
      "execution_count": 2,
      "outputs": []
    },
    {
      "cell_type": "code",
      "metadata": {
        "colab": {
          "base_uri": "https://localhost:8080/",
          "height": 407
        },
        "id": "hgji2wVPmtb2",
        "outputId": "8c83a6ae-825d-4b7c-d8a5-df58d75e1238"
      },
      "source": [
        "df"
      ],
      "execution_count": 3,
      "outputs": [
        {
          "output_type": "execute_result",
          "data": {
            "text/html": [
              "<div>\n",
              "<style scoped>\n",
              "    .dataframe tbody tr th:only-of-type {\n",
              "        vertical-align: middle;\n",
              "    }\n",
              "\n",
              "    .dataframe tbody tr th {\n",
              "        vertical-align: top;\n",
              "    }\n",
              "\n",
              "    .dataframe thead th {\n",
              "        text-align: right;\n",
              "    }\n",
              "</style>\n",
              "<table border=\"1\" class=\"dataframe\">\n",
              "  <thead>\n",
              "    <tr style=\"text-align: right;\">\n",
              "      <th></th>\n",
              "      <th>location</th>\n",
              "      <th>week</th>\n",
              "      <th>collection_date</th>\n",
              "      <th>result</th>\n",
              "      <th>sampleid</th>\n",
              "      <th>is_nursinghome</th>\n",
              "      <th>RP</th>\n",
              "      <th>N2</th>\n",
              "      <th>N1</th>\n",
              "    </tr>\n",
              "  </thead>\n",
              "  <tbody>\n",
              "    <tr>\n",
              "      <th>0</th>\n",
              "      <td>NH 1</td>\n",
              "      <td>3</td>\n",
              "      <td>2020-04-09</td>\n",
              "      <td>NEG</td>\n",
              "      <td>25087</td>\n",
              "      <td>1</td>\n",
              "      <td>30.012</td>\n",
              "      <td>NaN</td>\n",
              "      <td>NaN</td>\n",
              "    </tr>\n",
              "    <tr>\n",
              "      <th>1</th>\n",
              "      <td>NH 1</td>\n",
              "      <td>3</td>\n",
              "      <td>2020-04-09</td>\n",
              "      <td>NEG</td>\n",
              "      <td>25088</td>\n",
              "      <td>1</td>\n",
              "      <td>26.704</td>\n",
              "      <td>NaN</td>\n",
              "      <td>NaN</td>\n",
              "    </tr>\n",
              "    <tr>\n",
              "      <th>2</th>\n",
              "      <td>NH 1</td>\n",
              "      <td>3</td>\n",
              "      <td>2020-04-09</td>\n",
              "      <td>POS</td>\n",
              "      <td>25089</td>\n",
              "      <td>1</td>\n",
              "      <td>26.252</td>\n",
              "      <td>34.779</td>\n",
              "      <td>32.655</td>\n",
              "    </tr>\n",
              "    <tr>\n",
              "      <th>3</th>\n",
              "      <td>NH 1</td>\n",
              "      <td>3</td>\n",
              "      <td>2020-04-09</td>\n",
              "      <td>POS</td>\n",
              "      <td>25090</td>\n",
              "      <td>1</td>\n",
              "      <td>28.566</td>\n",
              "      <td>31.552</td>\n",
              "      <td>29.834</td>\n",
              "    </tr>\n",
              "    <tr>\n",
              "      <th>4</th>\n",
              "      <td>NH 1</td>\n",
              "      <td>3</td>\n",
              "      <td>2020-04-09</td>\n",
              "      <td>NEG</td>\n",
              "      <td>25091</td>\n",
              "      <td>1</td>\n",
              "      <td>24.444</td>\n",
              "      <td>NaN</td>\n",
              "      <td>NaN</td>\n",
              "    </tr>\n",
              "    <tr>\n",
              "      <th>...</th>\n",
              "      <td>...</td>\n",
              "      <td>...</td>\n",
              "      <td>...</td>\n",
              "      <td>...</td>\n",
              "      <td>...</td>\n",
              "      <td>...</td>\n",
              "      <td>...</td>\n",
              "      <td>...</td>\n",
              "      <td>...</td>\n",
              "    </tr>\n",
              "    <tr>\n",
              "      <th>2141</th>\n",
              "      <td>NH 4</td>\n",
              "      <td>7</td>\n",
              "      <td>2020-05-05</td>\n",
              "      <td>NEG</td>\n",
              "      <td>27190</td>\n",
              "      <td>1</td>\n",
              "      <td>27.544</td>\n",
              "      <td>NaN</td>\n",
              "      <td>NaN</td>\n",
              "    </tr>\n",
              "    <tr>\n",
              "      <th>2142</th>\n",
              "      <td>NH 4</td>\n",
              "      <td>7</td>\n",
              "      <td>2020-05-05</td>\n",
              "      <td>POS</td>\n",
              "      <td>27193</td>\n",
              "      <td>1</td>\n",
              "      <td>22.499</td>\n",
              "      <td>31.950</td>\n",
              "      <td>32.353</td>\n",
              "    </tr>\n",
              "    <tr>\n",
              "      <th>2143</th>\n",
              "      <td>NH 4</td>\n",
              "      <td>7</td>\n",
              "      <td>2020-05-05</td>\n",
              "      <td>NEG</td>\n",
              "      <td>27196</td>\n",
              "      <td>1</td>\n",
              "      <td>29.209</td>\n",
              "      <td>NaN</td>\n",
              "      <td>NaN</td>\n",
              "    </tr>\n",
              "    <tr>\n",
              "      <th>2144</th>\n",
              "      <td>NH 4</td>\n",
              "      <td>7</td>\n",
              "      <td>2020-05-05</td>\n",
              "      <td>NEG</td>\n",
              "      <td>27203</td>\n",
              "      <td>1</td>\n",
              "      <td>25.910</td>\n",
              "      <td>NaN</td>\n",
              "      <td>NaN</td>\n",
              "    </tr>\n",
              "    <tr>\n",
              "      <th>2145</th>\n",
              "      <td>NH 4</td>\n",
              "      <td>7</td>\n",
              "      <td>2020-05-05</td>\n",
              "      <td>INVALID</td>\n",
              "      <td>27213</td>\n",
              "      <td>1</td>\n",
              "      <td>NaN</td>\n",
              "      <td>NaN</td>\n",
              "      <td>NaN</td>\n",
              "    </tr>\n",
              "  </tbody>\n",
              "</table>\n",
              "<p>2146 rows × 9 columns</p>\n",
              "</div>"
            ],
            "text/plain": [
              "     location  week collection_date  ...      RP      N2      N1\n",
              "0        NH 1     3      2020-04-09  ...  30.012     NaN     NaN\n",
              "1        NH 1     3      2020-04-09  ...  26.704     NaN     NaN\n",
              "2        NH 1     3      2020-04-09  ...  26.252  34.779  32.655\n",
              "3        NH 1     3      2020-04-09  ...  28.566  31.552  29.834\n",
              "4        NH 1     3      2020-04-09  ...  24.444     NaN     NaN\n",
              "...       ...   ...             ...  ...     ...     ...     ...\n",
              "2141     NH 4     7      2020-05-05  ...  27.544     NaN     NaN\n",
              "2142     NH 4     7      2020-05-05  ...  22.499  31.950  32.353\n",
              "2143     NH 4     7      2020-05-05  ...  29.209     NaN     NaN\n",
              "2144     NH 4     7      2020-05-05  ...  25.910     NaN     NaN\n",
              "2145     NH 4     7      2020-05-05  ...     NaN     NaN     NaN\n",
              "\n",
              "[2146 rows x 9 columns]"
            ]
          },
          "metadata": {
            "tags": []
          },
          "execution_count": 3
        }
      ]
    },
    {
      "cell_type": "code",
      "metadata": {
        "id": "D9A6ghN2tNCU"
      },
      "source": [
        "# obtain data only for one nursing home\n",
        "df1 = df.loc[df['location'] == 'NH 1']\n",
        "df_day_count = df.groupby(['collection_date', 'result']).count()"
      ],
      "execution_count": 4,
      "outputs": []
    },
    {
      "cell_type": "code",
      "metadata": {
        "colab": {
          "base_uri": "https://localhost:8080/",
          "height": 1000
        },
        "id": "f1wGUwxaRK8z",
        "outputId": "a38e8788-b014-4926-9760-aed0927e68d3"
      },
      "source": [
        "df_day_count"
      ],
      "execution_count": 5,
      "outputs": [
        {
          "output_type": "execute_result",
          "data": {
            "text/html": [
              "<div>\n",
              "<style scoped>\n",
              "    .dataframe tbody tr th:only-of-type {\n",
              "        vertical-align: middle;\n",
              "    }\n",
              "\n",
              "    .dataframe tbody tr th {\n",
              "        vertical-align: top;\n",
              "    }\n",
              "\n",
              "    .dataframe thead th {\n",
              "        text-align: right;\n",
              "    }\n",
              "</style>\n",
              "<table border=\"1\" class=\"dataframe\">\n",
              "  <thead>\n",
              "    <tr style=\"text-align: right;\">\n",
              "      <th></th>\n",
              "      <th></th>\n",
              "      <th>location</th>\n",
              "      <th>week</th>\n",
              "      <th>sampleid</th>\n",
              "      <th>is_nursinghome</th>\n",
              "      <th>RP</th>\n",
              "      <th>N2</th>\n",
              "      <th>N1</th>\n",
              "    </tr>\n",
              "    <tr>\n",
              "      <th>collection_date</th>\n",
              "      <th>result</th>\n",
              "      <th></th>\n",
              "      <th></th>\n",
              "      <th></th>\n",
              "      <th></th>\n",
              "      <th></th>\n",
              "      <th></th>\n",
              "      <th></th>\n",
              "    </tr>\n",
              "  </thead>\n",
              "  <tbody>\n",
              "    <tr>\n",
              "      <th>2020-04-06</th>\n",
              "      <th>NEG</th>\n",
              "      <td>1</td>\n",
              "      <td>1</td>\n",
              "      <td>1</td>\n",
              "      <td>1</td>\n",
              "      <td>1</td>\n",
              "      <td>0</td>\n",
              "      <td>0</td>\n",
              "    </tr>\n",
              "    <tr>\n",
              "      <th>2020-04-07</th>\n",
              "      <th>NEG</th>\n",
              "      <td>1</td>\n",
              "      <td>1</td>\n",
              "      <td>1</td>\n",
              "      <td>1</td>\n",
              "      <td>1</td>\n",
              "      <td>0</td>\n",
              "      <td>0</td>\n",
              "    </tr>\n",
              "    <tr>\n",
              "      <th rowspan=\"3\" valign=\"top\">2020-04-09</th>\n",
              "      <th>INCONCLUSIVE</th>\n",
              "      <td>2</td>\n",
              "      <td>2</td>\n",
              "      <td>2</td>\n",
              "      <td>2</td>\n",
              "      <td>2</td>\n",
              "      <td>0</td>\n",
              "      <td>2</td>\n",
              "    </tr>\n",
              "    <tr>\n",
              "      <th>NEG</th>\n",
              "      <td>266</td>\n",
              "      <td>266</td>\n",
              "      <td>266</td>\n",
              "      <td>266</td>\n",
              "      <td>266</td>\n",
              "      <td>0</td>\n",
              "      <td>0</td>\n",
              "    </tr>\n",
              "    <tr>\n",
              "      <th>POS</th>\n",
              "      <td>105</td>\n",
              "      <td>105</td>\n",
              "      <td>105</td>\n",
              "      <td>105</td>\n",
              "      <td>103</td>\n",
              "      <td>105</td>\n",
              "      <td>105</td>\n",
              "    </tr>\n",
              "    <tr>\n",
              "      <th rowspan=\"2\" valign=\"top\">2020-04-10</th>\n",
              "      <th>NEG</th>\n",
              "      <td>202</td>\n",
              "      <td>202</td>\n",
              "      <td>202</td>\n",
              "      <td>202</td>\n",
              "      <td>202</td>\n",
              "      <td>0</td>\n",
              "      <td>0</td>\n",
              "    </tr>\n",
              "    <tr>\n",
              "      <th>POS</th>\n",
              "      <td>87</td>\n",
              "      <td>87</td>\n",
              "      <td>87</td>\n",
              "      <td>87</td>\n",
              "      <td>87</td>\n",
              "      <td>87</td>\n",
              "      <td>87</td>\n",
              "    </tr>\n",
              "    <tr>\n",
              "      <th rowspan=\"2\" valign=\"top\">2020-04-11</th>\n",
              "      <th>NEG</th>\n",
              "      <td>57</td>\n",
              "      <td>57</td>\n",
              "      <td>57</td>\n",
              "      <td>57</td>\n",
              "      <td>57</td>\n",
              "      <td>0</td>\n",
              "      <td>0</td>\n",
              "    </tr>\n",
              "    <tr>\n",
              "      <th>POS</th>\n",
              "      <td>3</td>\n",
              "      <td>3</td>\n",
              "      <td>3</td>\n",
              "      <td>3</td>\n",
              "      <td>3</td>\n",
              "      <td>3</td>\n",
              "      <td>3</td>\n",
              "    </tr>\n",
              "    <tr>\n",
              "      <th>2020-04-12</th>\n",
              "      <th>NEG</th>\n",
              "      <td>1</td>\n",
              "      <td>1</td>\n",
              "      <td>1</td>\n",
              "      <td>1</td>\n",
              "      <td>1</td>\n",
              "      <td>0</td>\n",
              "      <td>0</td>\n",
              "    </tr>\n",
              "    <tr>\n",
              "      <th rowspan=\"2\" valign=\"top\">2020-04-13</th>\n",
              "      <th>NEG</th>\n",
              "      <td>45</td>\n",
              "      <td>45</td>\n",
              "      <td>45</td>\n",
              "      <td>45</td>\n",
              "      <td>45</td>\n",
              "      <td>0</td>\n",
              "      <td>0</td>\n",
              "    </tr>\n",
              "    <tr>\n",
              "      <th>POS</th>\n",
              "      <td>17</td>\n",
              "      <td>17</td>\n",
              "      <td>17</td>\n",
              "      <td>17</td>\n",
              "      <td>17</td>\n",
              "      <td>17</td>\n",
              "      <td>17</td>\n",
              "    </tr>\n",
              "    <tr>\n",
              "      <th rowspan=\"2\" valign=\"top\">2020-04-14</th>\n",
              "      <th>INCONCLUSIVE</th>\n",
              "      <td>1</td>\n",
              "      <td>1</td>\n",
              "      <td>1</td>\n",
              "      <td>1</td>\n",
              "      <td>1</td>\n",
              "      <td>1</td>\n",
              "      <td>0</td>\n",
              "    </tr>\n",
              "    <tr>\n",
              "      <th>NEG</th>\n",
              "      <td>2</td>\n",
              "      <td>2</td>\n",
              "      <td>2</td>\n",
              "      <td>2</td>\n",
              "      <td>2</td>\n",
              "      <td>0</td>\n",
              "      <td>0</td>\n",
              "    </tr>\n",
              "    <tr>\n",
              "      <th rowspan=\"4\" valign=\"top\">2020-04-16</th>\n",
              "      <th>INCONCLUSIVE</th>\n",
              "      <td>4</td>\n",
              "      <td>4</td>\n",
              "      <td>4</td>\n",
              "      <td>4</td>\n",
              "      <td>4</td>\n",
              "      <td>4</td>\n",
              "      <td>2</td>\n",
              "    </tr>\n",
              "    <tr>\n",
              "      <th>INVALID</th>\n",
              "      <td>1</td>\n",
              "      <td>1</td>\n",
              "      <td>1</td>\n",
              "      <td>1</td>\n",
              "      <td>0</td>\n",
              "      <td>0</td>\n",
              "      <td>0</td>\n",
              "    </tr>\n",
              "    <tr>\n",
              "      <th>NEG</th>\n",
              "      <td>274</td>\n",
              "      <td>274</td>\n",
              "      <td>274</td>\n",
              "      <td>274</td>\n",
              "      <td>274</td>\n",
              "      <td>0</td>\n",
              "      <td>0</td>\n",
              "    </tr>\n",
              "    <tr>\n",
              "      <th>POS</th>\n",
              "      <td>175</td>\n",
              "      <td>175</td>\n",
              "      <td>175</td>\n",
              "      <td>175</td>\n",
              "      <td>174</td>\n",
              "      <td>175</td>\n",
              "      <td>175</td>\n",
              "    </tr>\n",
              "    <tr>\n",
              "      <th rowspan=\"4\" valign=\"top\">2020-04-17</th>\n",
              "      <th>INCONCLUSIVE</th>\n",
              "      <td>2</td>\n",
              "      <td>2</td>\n",
              "      <td>2</td>\n",
              "      <td>2</td>\n",
              "      <td>2</td>\n",
              "      <td>2</td>\n",
              "      <td>0</td>\n",
              "    </tr>\n",
              "    <tr>\n",
              "      <th>INVALID</th>\n",
              "      <td>1</td>\n",
              "      <td>1</td>\n",
              "      <td>1</td>\n",
              "      <td>1</td>\n",
              "      <td>0</td>\n",
              "      <td>0</td>\n",
              "      <td>0</td>\n",
              "    </tr>\n",
              "    <tr>\n",
              "      <th>NEG</th>\n",
              "      <td>154</td>\n",
              "      <td>154</td>\n",
              "      <td>154</td>\n",
              "      <td>154</td>\n",
              "      <td>154</td>\n",
              "      <td>0</td>\n",
              "      <td>0</td>\n",
              "    </tr>\n",
              "    <tr>\n",
              "      <th>POS</th>\n",
              "      <td>27</td>\n",
              "      <td>27</td>\n",
              "      <td>27</td>\n",
              "      <td>27</td>\n",
              "      <td>27</td>\n",
              "      <td>27</td>\n",
              "      <td>27</td>\n",
              "    </tr>\n",
              "    <tr>\n",
              "      <th rowspan=\"2\" valign=\"top\">2020-04-18</th>\n",
              "      <th>NEG</th>\n",
              "      <td>29</td>\n",
              "      <td>29</td>\n",
              "      <td>29</td>\n",
              "      <td>29</td>\n",
              "      <td>29</td>\n",
              "      <td>0</td>\n",
              "      <td>0</td>\n",
              "    </tr>\n",
              "    <tr>\n",
              "      <th>POS</th>\n",
              "      <td>3</td>\n",
              "      <td>3</td>\n",
              "      <td>3</td>\n",
              "      <td>3</td>\n",
              "      <td>3</td>\n",
              "      <td>3</td>\n",
              "      <td>3</td>\n",
              "    </tr>\n",
              "    <tr>\n",
              "      <th rowspan=\"3\" valign=\"top\">2020-04-29</th>\n",
              "      <th>INCONCLUSIVE</th>\n",
              "      <td>1</td>\n",
              "      <td>1</td>\n",
              "      <td>1</td>\n",
              "      <td>1</td>\n",
              "      <td>1</td>\n",
              "      <td>0</td>\n",
              "      <td>1</td>\n",
              "    </tr>\n",
              "    <tr>\n",
              "      <th>NEG</th>\n",
              "      <td>51</td>\n",
              "      <td>51</td>\n",
              "      <td>51</td>\n",
              "      <td>51</td>\n",
              "      <td>51</td>\n",
              "      <td>0</td>\n",
              "      <td>0</td>\n",
              "    </tr>\n",
              "    <tr>\n",
              "      <th>POS</th>\n",
              "      <td>10</td>\n",
              "      <td>10</td>\n",
              "      <td>10</td>\n",
              "      <td>10</td>\n",
              "      <td>10</td>\n",
              "      <td>10</td>\n",
              "      <td>10</td>\n",
              "    </tr>\n",
              "    <tr>\n",
              "      <th rowspan=\"4\" valign=\"top\">2020-05-04</th>\n",
              "      <th>INCONCLUSIVE</th>\n",
              "      <td>7</td>\n",
              "      <td>7</td>\n",
              "      <td>7</td>\n",
              "      <td>7</td>\n",
              "      <td>7</td>\n",
              "      <td>2</td>\n",
              "      <td>5</td>\n",
              "    </tr>\n",
              "    <tr>\n",
              "      <th>INVALID</th>\n",
              "      <td>4</td>\n",
              "      <td>4</td>\n",
              "      <td>4</td>\n",
              "      <td>4</td>\n",
              "      <td>0</td>\n",
              "      <td>0</td>\n",
              "      <td>0</td>\n",
              "    </tr>\n",
              "    <tr>\n",
              "      <th>NEG</th>\n",
              "      <td>265</td>\n",
              "      <td>265</td>\n",
              "      <td>265</td>\n",
              "      <td>265</td>\n",
              "      <td>265</td>\n",
              "      <td>0</td>\n",
              "      <td>0</td>\n",
              "    </tr>\n",
              "    <tr>\n",
              "      <th>POS</th>\n",
              "      <td>38</td>\n",
              "      <td>38</td>\n",
              "      <td>38</td>\n",
              "      <td>38</td>\n",
              "      <td>38</td>\n",
              "      <td>38</td>\n",
              "      <td>38</td>\n",
              "    </tr>\n",
              "    <tr>\n",
              "      <th rowspan=\"4\" valign=\"top\">2020-05-05</th>\n",
              "      <th>INCONCLUSIVE</th>\n",
              "      <td>4</td>\n",
              "      <td>4</td>\n",
              "      <td>4</td>\n",
              "      <td>4</td>\n",
              "      <td>4</td>\n",
              "      <td>1</td>\n",
              "      <td>3</td>\n",
              "    </tr>\n",
              "    <tr>\n",
              "      <th>INVALID</th>\n",
              "      <td>1</td>\n",
              "      <td>1</td>\n",
              "      <td>1</td>\n",
              "      <td>1</td>\n",
              "      <td>0</td>\n",
              "      <td>0</td>\n",
              "      <td>0</td>\n",
              "    </tr>\n",
              "    <tr>\n",
              "      <th>NEG</th>\n",
              "      <td>273</td>\n",
              "      <td>273</td>\n",
              "      <td>273</td>\n",
              "      <td>273</td>\n",
              "      <td>273</td>\n",
              "      <td>0</td>\n",
              "      <td>0</td>\n",
              "    </tr>\n",
              "    <tr>\n",
              "      <th>POS</th>\n",
              "      <td>32</td>\n",
              "      <td>32</td>\n",
              "      <td>32</td>\n",
              "      <td>32</td>\n",
              "      <td>32</td>\n",
              "      <td>32</td>\n",
              "      <td>32</td>\n",
              "    </tr>\n",
              "  </tbody>\n",
              "</table>\n",
              "</div>"
            ],
            "text/plain": [
              "                              location  week  sampleid  ...   RP   N2   N1\n",
              "collection_date result                                  ...               \n",
              "2020-04-06      NEG                  1     1         1  ...    1    0    0\n",
              "2020-04-07      NEG                  1     1         1  ...    1    0    0\n",
              "2020-04-09      INCONCLUSIVE         2     2         2  ...    2    0    2\n",
              "                NEG                266   266       266  ...  266    0    0\n",
              "                POS                105   105       105  ...  103  105  105\n",
              "2020-04-10      NEG                202   202       202  ...  202    0    0\n",
              "                POS                 87    87        87  ...   87   87   87\n",
              "2020-04-11      NEG                 57    57        57  ...   57    0    0\n",
              "                POS                  3     3         3  ...    3    3    3\n",
              "2020-04-12      NEG                  1     1         1  ...    1    0    0\n",
              "2020-04-13      NEG                 45    45        45  ...   45    0    0\n",
              "                POS                 17    17        17  ...   17   17   17\n",
              "2020-04-14      INCONCLUSIVE         1     1         1  ...    1    1    0\n",
              "                NEG                  2     2         2  ...    2    0    0\n",
              "2020-04-16      INCONCLUSIVE         4     4         4  ...    4    4    2\n",
              "                INVALID              1     1         1  ...    0    0    0\n",
              "                NEG                274   274       274  ...  274    0    0\n",
              "                POS                175   175       175  ...  174  175  175\n",
              "2020-04-17      INCONCLUSIVE         2     2         2  ...    2    2    0\n",
              "                INVALID              1     1         1  ...    0    0    0\n",
              "                NEG                154   154       154  ...  154    0    0\n",
              "                POS                 27    27        27  ...   27   27   27\n",
              "2020-04-18      NEG                 29    29        29  ...   29    0    0\n",
              "                POS                  3     3         3  ...    3    3    3\n",
              "2020-04-29      INCONCLUSIVE         1     1         1  ...    1    0    1\n",
              "                NEG                 51    51        51  ...   51    0    0\n",
              "                POS                 10    10        10  ...   10   10   10\n",
              "2020-05-04      INCONCLUSIVE         7     7         7  ...    7    2    5\n",
              "                INVALID              4     4         4  ...    0    0    0\n",
              "                NEG                265   265       265  ...  265    0    0\n",
              "                POS                 38    38        38  ...   38   38   38\n",
              "2020-05-05      INCONCLUSIVE         4     4         4  ...    4    1    3\n",
              "                INVALID              1     1         1  ...    0    0    0\n",
              "                NEG                273   273       273  ...  273    0    0\n",
              "                POS                 32    32        32  ...   32   32   32\n",
              "\n",
              "[35 rows x 7 columns]"
            ]
          },
          "metadata": {
            "tags": []
          },
          "execution_count": 5
        }
      ]
    },
    {
      "cell_type": "code",
      "metadata": {
        "id": "h3UoBJAX9auq"
      },
      "source": [
        "# calculates prevelances based on incidence\n",
        "def calculate_prevs(pos, neg):\n",
        "  return pos / (pos + neg)"
      ],
      "execution_count": 6,
      "outputs": []
    },
    {
      "cell_type": "code",
      "metadata": {
        "colab": {
          "base_uri": "https://localhost:8080/"
        },
        "id": "lhtVaK106a1u",
        "outputId": "1c717742-888a-43d9-b323-c3aa21bc1719"
      },
      "source": [
        "df_day_count = df.groupby(['week', 'result']).count()\n",
        "results = df_day_count['location']\n",
        "positives = results[:,'POS'].values\n",
        "negatives = results[:,'NEG'].values\n",
        "total_prevs = calculate_prevs(positives, negatives)\n",
        "total_prevs"
      ],
      "execution_count": 7,
      "outputs": [
        {
          "output_type": "execute_result",
          "data": {
            "text/plain": [
              "array([0.2700831 , 0.30536451, 0.16393443, 0.11513158])"
            ]
          },
          "metadata": {
            "tags": []
          },
          "execution_count": 7
        }
      ]
    },
    {
      "cell_type": "code",
      "metadata": {
        "id": "-epXs7aW3QH7"
      },
      "source": [
        "# obtaining prevalence\n",
        "df1_day_count = df1.groupby(['collection_date', 'result']).count()\n",
        "# results is a Pandas Series object\n",
        "results = df1_day_count['location']\n",
        "positives = results[:,'POS'].values\n",
        "# negatives don't match up with positives\n",
        "negatives = results[:, 'NEG'].values[:-1]\n",
        "prevs = calculate_prevs(positives, negatives)"
      ],
      "execution_count": 8,
      "outputs": []
    },
    {
      "cell_type": "code",
      "metadata": {
        "colab": {
          "base_uri": "https://localhost:8080/"
        },
        "id": "m41WDyb77Y-e",
        "outputId": "a5359aa5-5139-473c-b7be-b2dd02c04c61"
      },
      "source": [
        "prevs"
      ],
      "execution_count": 9,
      "outputs": [
        {
          "output_type": "execute_result",
          "data": {
            "text/plain": [
              "array([0.25      , 0.59210526, 0.29411765, 0.51351351, 0.16666667])"
            ]
          },
          "metadata": {
            "tags": []
          },
          "execution_count": 9
        }
      ]
    },
    {
      "cell_type": "code",
      "metadata": {
        "id": "gQDY5Vmxy57j"
      },
      "source": [
        "# group by day \n",
        "df1_day = df1.groupby(['collection_date']).mean()\n",
        "# drop collection dates that have Nan\n",
        "df1_day= df1_day.dropna(how=\"any\")\n",
        "df1_day\n",
        "# grab collection date\n",
        "dates = np.array(df1_day.index)\n",
        "# grab N1s\n",
        "n1s = np.array(df1_day['N1'])\n",
        "# grab N2s\n",
        "n2s = np.array(df1_day['N2'])"
      ],
      "execution_count": 10,
      "outputs": []
    },
    {
      "cell_type": "code",
      "metadata": {
        "colab": {
          "base_uri": "https://localhost:8080/",
          "height": 250
        },
        "id": "69SWFc25zxcv",
        "outputId": "5abdf44c-3b09-465f-bd7f-4920d24787d6"
      },
      "source": [
        "# plots\n",
        "fig, ax = plt.subplots(1, 3, figsize=(30, 5))\n",
        "# plot prevalence\n",
        "ax[0].plot(np.unique(df['week']), total_prevs)\n",
        "ax[0].set_title(\"Prevalences\")\n",
        "\n",
        "# plot n1s\n",
        "ax[1].plot(dates, n1s, color='blue')\n",
        "ax[1].set_title(\"Ct Values - N1\")\n",
        "\n",
        "# plot n2s\n",
        "ax[2].plot(dates, n2s, color='orange')\n",
        "ax[2].set_title(\"Ct Values - N2\")\n",
        "\n",
        "plt.show()"
      ],
      "execution_count": 11,
      "outputs": [
        {
          "output_type": "display_data",
          "data": {
            "image/png": "[encoded data removed]",
            "text/plain": [
              "<Figure size 2160x360 with 3 Axes>"
            ]
          },
          "metadata": {
            "tags": [],
            "needs_background": "light"
          }
        }
      ]
    },
    {
      "cell_type": "markdown",
      "metadata": {
        "id": "3lf7Alx0zhZU"
      },
      "source": [
        "## Inferring Epidemic Trajectory Using a Single Cross-Section\n",
        "---\n",
        "We model the variation in observed Ct values arising from individual-level viral growth and estimate the distribution of observed Ct values as a function of times since infection. We then use this function to estimate the epidemic growth rate conditional on a set of observed Ct values. \n",
        "\n",
        "We are given a single cross-section of RT-qPCR test results. We combine \n",
        "\n",
        "1. The likelihood of observing a Ct value on having been infected on a given day\n",
        "\n",
        "2. The likelihood of being infected on a given date prior to the sample date.\n",
        "\n",
        "### 1. Ct Value Model\n",
        "---\n",
        "The mathematical model that describes the distribution of observed SARS-CoV-2 viral loads over time following infection. They use a parametric model describing the the modal Ct value, $C_{mode}(a)$ for an individual $a$ days after infection.\n",
        "\n",
        "Since they are interested in a population-level distribution and not individual trajetctories, the put a **Gumbel distribution** prior on the observed $Ct$ values with mean $C_{mode}(a) - \\sigma(a)\\gamma$, and variance $\\frac{\\sigma(a)^2\\pi^2}{6}$ where $\\gamma$ is Euler's constant.\n",
        "\n",
        "#### Why a Gumbel Distribution?\n",
        "---\n",
        "* $f(x; \\mu, \\beta) = \\frac{1}{\\beta}e^{-(z + e^{-z})}$ where $z = \\frac{x - \\mu}{\\beta}$.\n",
        "* used to model the distribution of the maximum or minimum number of samples of various distributions.\n",
        "* Captures the variation resulting from both swabbing variability and inidividual-level difference in viral kinetics.\n",
        "* Captures overdispersion of high measured Ct values.\n",
        "* We write $C(a) \\sim Gumbel(C_{mode}(a), \\sigma(a))$."
      ]
    },
    {
      "cell_type": "code",
      "metadata": {
        "id": "mZ-w_Fjf3-u9"
      },
      "source": [
        "# calculates the modal Ct value according to two-hinge function\n",
        "# specified on pg.3 of the supplementary material\n",
        "# init values as specified on pg. 30 of suppementary material\n",
        "c_zero = 40\n",
        "c_peak = 20.06\n",
        "c_switch = 33.0\n",
        "t_eclipse = 0.0\n",
        "# global limit of detection variable\n",
        "c_LOD = 40.0\n",
        "t_peak = 5.0\n",
        "t_switch = 9.38\n",
        "# limit of detection\n",
        "t_LOD = 99999999\n",
        "# daily probability of individual fully cleraing virus\n",
        "# and becoming undectable\n",
        "p_addl = 0.11\n",
        "\n",
        "def calculate_c_mode(a):\n",
        "  # undetectable true value\n",
        "  if (a <= t_eclipse):\n",
        "    return c_zero\n",
        "  # log viral load increases\n",
        "  elif (t_eclipse < a and a <= t_eclipse + t_peak):\n",
        "    return c_zero + (c_peak - c_zero)/(t_peak) * (a - t_eclipse)\n",
        "  # log viral load wanes\n",
        "  elif (t_eclipse + t_peak < a and a <= t_eclipse + t_peak + t_switch):\n",
        "    return c_peak + (c_switch - c_peak)/(t_switch) * (a - t_eclipse - t_peak)\n",
        "  # log viral load wanes at a slower linear rate\n",
        "  else:\n",
        "    return c_switch + (c_LOD - c_switch)/(t_LOD - t_switch - t_peak - t_eclipse) * (a - t_eclipse - t_peak - t_switch)"
      ],
      "execution_count": 12,
      "outputs": []
    },
    {
      "cell_type": "code",
      "metadata": {
        "id": "B2f-cGcV6LVS"
      },
      "source": [
        "# calculates scale parameter sigma_a\n",
        "# init values\n",
        "sigma_obs = 5.15\n",
        "s_mod = 0.4\n",
        "t_mod = 14.0\n",
        "\n",
        "def calculate_sigma(a):\n",
        "  if (a < t_eclipse + t_peak + t_switch):\n",
        "    return sigma_obs\n",
        "  elif (t_eclipse + t_peak + t_switch <= a and a < t_eclipse + t_peak + t_switch + t_mod):\n",
        "    return sigma_obs * (1 - ((1 - s_mod)/t_mod) * (a - t_eclipse - t_peak - t_switch))\n",
        "  else:\n",
        "    return sigma_obs * s_mod"
      ],
      "execution_count": 13,
      "outputs": []
    },
    {
      "cell_type": "code",
      "metadata": {
        "id": "Y7brcJMAo_in"
      },
      "source": [
        "# samples C(a)\n",
        "def sample_C(a, no_variance=True):\n",
        "  mode = calculate_c_mode(a)\n",
        "  if (no_variance):\n",
        "    sigma = 0\n",
        "  else:\n",
        "    sigma = calculate_sigma(a)\n",
        "  mean = mode - sigma * np.exp(1)\n",
        "  variance = (sigma**2 * np.pi**2) / 6\n",
        "  return sp.stats.gumbel_r.rvs(mean, variance)"
      ],
      "execution_count": 104,
      "outputs": []
    },
    {
      "cell_type": "code",
      "metadata": {
        "id": "pXZ2Qm9gEBDT"
      },
      "source": [
        "def gumbel_pdf(x, mean, variance):\n",
        "  y = (x - mean) / variance\n",
        "  pdf = np.exp(-(y + np.exp(-y)))\n",
        "  return pdf / variance\n",
        "\n",
        "# pdf of gumbel ct distribution\n",
        "# p_a is a function calculating the probability that an individuals Ct value is X_i at day t - a\n",
        "# we don't use the SCIPY package sp.stats.gumbel_r.pdf(x, mean, variance) because it won't\n",
        "# work with Pymc3\n",
        "def p_a(a, x):\n",
        "  mode = calculate_c_mode(a)\n",
        "  sigma = calculate_sigma(a)\n",
        "  mean = mode - sigma * np.exp(1)\n",
        "  variance = (sigma**2 * np.pi**2) / 6\n",
        "  \n",
        "  return gumbel_pdf(x, mean, variance)\n",
        "\n",
        "# cdf of gumbel ct distribution\n",
        "def cdf_a(a):\n",
        "  mean = calculate_c_mode(a)\n",
        "  variance = calculate_sigma(a)\n",
        "  return sp.stats.gumbel_r.cdf(a, mean, variance)"
      ],
      "execution_count": 105,
      "outputs": []
    },
    {
      "cell_type": "code",
      "metadata": {
        "colab": {
          "base_uri": "https://localhost:8080/",
          "height": 350
        },
        "id": "b9h3fxEypytP",
        "outputId": "b73a978f-afb0-4a8e-e504-4b7a336a9fd7"
      },
      "source": [
        "# visual sanity check for Ct simulations\n",
        "# calculate\n",
        "xs = np.array(range(55))\n",
        "cts = np.array([sample_C(x) for x in xs])\n",
        "\n",
        "# plots\n",
        "fig, ax = plt.subplots(1, 1, figsize=(15, 5))\n",
        "# plot prevalence\n",
        "ax.plot(xs, cts)\n",
        "ax.set_xlabel(\"Time since infection (days)\")\n",
        "ax.set_ylabel(\"Ct Values\")\n",
        "ax.set_title(\"Simulated Ct Value\")\n",
        "# inverts axis\n",
        "plt.gca().invert_yaxis()\n",
        "\n",
        "plt.show()"
      ],
      "execution_count": 106,
      "outputs": [
        {
          "output_type": "display_data",
          "data": {
            "image/png": "[encoded data removed]",
            "text/plain": [
              "<Figure size 1080x360 with 1 Axes>"
            ]
          },
          "metadata": {
            "tags": [],
            "needs_background": "light"
          }
        }
      ]
    },
    {
      "cell_type": "code",
      "metadata": {
        "colab": {
          "base_uri": "https://localhost:8080/",
          "height": 350
        },
        "id": "8x_ZymvkRjdq",
        "outputId": "7c92e61d-c506-4ec3-fd80-2e29e0412c4f"
      },
      "source": [
        "# visual sanity check for Ct simulations\n",
        "# calculate\n",
        "xs = np.array(range(55))\n",
        "pdfs = np.array([p_a(1, x) for x in xs])\n",
        "cdfs = np.array([cdf_a(a) for a in xs])\n",
        "\n",
        "# plots\n",
        "fig, ax = plt.subplots(1, 2, figsize=(15, 5))\n",
        "# plot pdf\n",
        "ax[0].plot(xs, pdfs)\n",
        "ax[0].set_xlabel(\"Time since infection (days)\")\n",
        "ax[0].set_ylabel(\"Pdf\")\n",
        "ax[0].set_title(\"Pdf of Ct Value\")\n",
        "# plot cdf\n",
        "ax[1].plot(xs, cdfs)\n",
        "ax[1].set_xlabel(\"Time since infection (days)\")\n",
        "ax[1].set_ylabel(\"Cdf\")\n",
        "ax[1].set_title(\"Cdf of Ct Value\")\n",
        "\n",
        "plt.show()"
      ],
      "execution_count": 107,
      "outputs": [
        {
          "output_type": "display_data",
          "data": {
            "image/png": "[encoded data removed]",
            "text/plain": [
              "<Figure size 1080x360 with 2 Axes>"
            ]
          },
          "metadata": {
            "tags": [],
            "needs_background": "light"
          }
        }
      ]
    },
    {
      "cell_type": "markdown",
      "metadata": {
        "id": "l9A4Tvdj-6He"
      },
      "source": [
        "### Likelihood of Daily Probability of Infection\n",
        "---\n",
        "For testing day $t$: let $\\pi_{t - a} := $probability that a randomly-selected individual in the population was infected on day $t - a$.\n",
        "\n",
        "Therefore, let $\\pi_{t - A_{max}},...,\\pi_{t - 1}$ be the daily probabilities of infection for the whole population for $A_{max}$ days to 1 day prior to testing day $t$.\n",
        "\n",
        "Let $p_a(x) :=$ probability that the Ct value is $x$ for a test conducted $a$ days after infection. \n",
        "\n",
        "Let $\\phi_a :=$ probability of a Ct value being detectable $a$ days after infection.\n",
        "\n",
        "Let PCR test results from a sample of $n$ individuals be recorded $X_1,...,X_n$.\n",
        "\n",
        "Then, for $x_i \\leq C_{LOD}$ (a detectable Ct value): \n",
        "\n",
        "**The probability of individual $i$ having Ct value $x_i$** is:\n",
        "\n",
        "$$\n",
        "P(X_i = x_i | \\pi_{t - A_{max}},..,\\pi_{t - 1}) = \\sum_{a = 1}^{A_{max}} p_a(x_i)\\pi_{t - a}\n",
        "$$\n",
        "\n",
        "(a sum of days before test of probability of having Ct value on day $t - a$ and probability of being infected on day $t - a$)"
      ]
    },
    {
      "cell_type": "markdown",
      "metadata": {
        "id": "GKX1W0D0EIs8"
      },
      "source": [
        "**The probability of a randomly-chosen individual being detectable to PCR on testing day $t$** is:\n",
        "\n",
        "$$\n",
        "P(X_i \\leq C_{LOD} | \\pi_{t - A_{max}},..,\\pi_{t - 1}) = \\sum_{a = 1}^{A_{max}} \\phi_a\\pi_{t - a}\n",
        "$$"
      ]
    },
    {
      "cell_type": "markdown",
      "metadata": {
        "id": "iZbE8caqE-Se"
      },
      "source": [
        "**The likelihood for the $n$ PCR values** is:\n",
        "\n",
        "$$\n",
        "\\mathcal{L}(\\pi_{t - A_{max}},...,\\pi_{t - a} | X_1,...,X_n) = \\prod_{i = 1}^n \\bigg[ \\bigg(\\sum_{a = 1}^{A_{max}} p_a(X_i)\\pi_{t - a}\\bigg)^{\\mathbb{I}(X_i \\leq C_{LOD})} \\bigg( 1 - \\sum_{a = 1}^{A_{max}}\\phi_a\\pi_{t - a}\\bigg)^{\\mathbb{I}(X_i > C_{LOD})} \\bigg]\n",
        "$$\n",
        "\n",
        "This is the probability that data point $i$ has detectable Ct value $X_i$ if they are detectable or probability of being not detectable if not detectable, for all data points.\n",
        "\n",
        "This likelihood can be maximized to get nonparametric estimates of the daily probability of infection with constraint $\\sum_{a = 1}^{A_{max}} \\pi_{t - a} \\leq 1$"
      ]
    },
    {
      "cell_type": "markdown",
      "metadata": {
        "id": "ky_CgxrN0yOO"
      },
      "source": [
        "### 2. Epidemic Growth Rate Estimator\n",
        "---\n",
        "To improve the interpretability of the stimates, they consider the following parametric models.\n",
        "\n",
        "#### Exponential Growth Model\n",
        "---\n",
        "* Assumes constant growth rate.\n",
        "* $\\pi_{t - a} = \\pi_0\\exp[\\beta(t - a)]$ where $\\beta$ is the growth rate.\n",
        "* We assume all Ct values are detectable:\n",
        "* $\\implies \\mathcal{L}(\\beta | X_1,...,X_n) = \\frac{\\prod_{i = 1}^n (\\sum_{a = 1}^{A_{max}} p_a(X_i)\\phi_a\\exp[\\beta(t - a)])}{( \\sum_{a = 1}^{A_{max}}\\phi_a\\exp[\\beta(t - a)])^n}$\n",
        "Since the likelihood can easily lead to overflow values, we use log-likelihood which is more stable. Using the log-likelihood does not disrupt the optimization problem because log is monotonic.\n",
        "$$\\implies \\mathcal{l}(\\beta | X_1,...,X_n) = \\log \\mathcal{L}$$\n",
        "$$ = \\sum_{i = 1}^n \\log (\\sum_{a = 1}^{A_{max}} p_a(X_i)\\phi_a\\exp[\\beta(t - a)]) - n \\log( \\sum_{a = 1}^{A_{max}}\\phi_a\\exp[\\beta(t - a)])$$\n",
        "\n",
        "(ignoring $\\pi_0$)\n",
        "* Assume a prior on $\\beta$, namely $\\beta \\sim \\mathcal{N}(0, 0.25)$ and along with the likelihood, sample from the posterior distribution using MCMC.\n",
        "* $p_a(X_i)$ is the probability of observing Ct value of $X_i$ given that user $i$ was infected $a$ days ago. This means $i$ must be detectable. This is why the inner value on the numerator is $p_a(X_i)\\phi_a\\exp[\\beta(t - a)]$ and not $p_a(X_i)\\exp[\\beta(t - a)]$"
      ]
    },
    {
      "cell_type": "markdown",
      "metadata": {
        "id": "suZXWKZ6R6gW"
      },
      "source": [
        "#### Code for Likelihood Function\n",
        "---"
      ]
    },
    {
      "cell_type": "code",
      "metadata": {
        "id": "dx4ZapKbKwSJ"
      },
      "source": [
        "# some constants\n",
        "t = 35\n",
        "A_max = 35"
      ],
      "execution_count": 76,
      "outputs": []
    },
    {
      "cell_type": "code",
      "metadata": {
        "id": "-SkkqOyFBIji"
      },
      "source": [
        "# phi_a is a function calculating the probability that a Ct value is detectable a days after infection\n",
        "def phi_a(a):\n",
        "  prob_ca_leq_clod = cdf_a(c_LOD)\n",
        "  if (a <= t_eclipse + t_peak + t_switch):\n",
        "    return prob_ca_leq_clod\n",
        "  else:\n",
        "    return prob_ca_leq_clod * (1 - p_addl) ** (a - t_eclipse - t_peak - t_switch)"
      ],
      "execution_count": 77,
      "outputs": []
    },
    {
      "cell_type": "code",
      "metadata": {
        "colab": {
          "base_uri": "https://localhost:8080/"
        },
        "id": "TkK7em_3CB8f",
        "outputId": "74fe00cc-283e-47ab-cb7b-4a763e25b5a0"
      },
      "source": [
        "phi_a(9)"
      ],
      "execution_count": 117,
      "outputs": [
        {
          "output_type": "execute_result",
          "data": {
            "text/plain": [
              "0.9671147114112951"
            ]
          },
          "metadata": {
            "tags": []
          },
          "execution_count": 117
        }
      ]
    },
    {
      "cell_type": "code",
      "metadata": {
        "id": "L3J7TCsUPmwi"
      },
      "source": [
        "# x is a single data point\n",
        "# A_max is the maximum number of days before test day that we consider\n",
        "# beta is the growth rate parameter\n",
        "# t is test day\n",
        "def calculate_prob(x, A_max, beta, t):\n",
        "  result = 0\n",
        "  for a in range(A_max):\n",
        "    result += p_a(a, x) * phi_a(a) * np.exp(beta * (t - a))\n",
        "  return result\n",
        "\n",
        "# beta is the growth rate parameter\n",
        "# A_max is the maximum number of days before test day that we consider\n",
        "# t is test day\n",
        "def calculate_detectable_prob(A_max, beta, t):\n",
        "  result = 0\n",
        "  for a in range(A_max):\n",
        "    result += phi_a(a) * np.exp(beta * (t - a))\n",
        "  return result"
      ],
      "execution_count": 79,
      "outputs": []
    },
    {
      "cell_type": "code",
      "metadata": {
        "id": "_UJC22KC7ojM"
      },
      "source": [
        "def compute_exp_growth_log_likelihood(beta, X, test_time):\n",
        "  logprob = np.log(calculate_detectable_prob(A_max, beta, test_time))\n",
        "  n = X.size\n",
        "  sum = pm.math.sum(np.log(calculate_prob(X, A_max, beta, test_time)))\n",
        "  return sum - n * logprob "
      ],
      "execution_count": 80,
      "outputs": []
    },
    {
      "cell_type": "markdown",
      "metadata": {
        "id": "CmYSGYFhR_zp"
      },
      "source": [
        "#### Code for Prior and Posterior\n",
        "---"
      ]
    },
    {
      "cell_type": "code",
      "metadata": {
        "id": "fJqHVjSDSCVI"
      },
      "source": [
        "def build_exponential_model_with_observed(observed_cts, test_time):\n",
        "  exponential_infection_model = pm.Model()\n",
        "\n",
        "  with Model() as exponential_infection_model:\n",
        "    # priors on beta\n",
        "    # beta is a univariate normal\n",
        "    beta = pm.Normal('beta', mu=0, sigma=0.25)\n",
        "    # likelihood of exponential growth model:\n",
        "    # the likelihood of observing these Ct values \n",
        "    exponential_growth_likelihood = lambda X: compute_exp_growth_log_likelihood(beta, X, test_time)\n",
        "    # # fake likelihood for test\n",
        "    # y_obs = pm.Poisson('y', mu=beta, observed=first_week_nh1_cts)\n",
        "    X_obs = pm.DensityDist('likelihood', exponential_growth_likelihood, observed=observed_cts)\n",
        "\n",
        "  return exponential_infection_model"
      ],
      "execution_count": 81,
      "outputs": []
    },
    {
      "cell_type": "code",
      "metadata": {
        "id": "yGjSrpaGGrZo"
      },
      "source": [
        "# draw graphical model for the thing we just defined  \n",
        "def draw_model(pymc3_model):\n",
        "  model_to_graphviz(pymc3_model)"
      ],
      "execution_count": 82,
      "outputs": []
    },
    {
      "cell_type": "code",
      "metadata": {
        "id": "le6TcI4BG5Xc"
      },
      "source": [
        "# sample n samples from the posterior of the model, using tune_iters iterations to tune the sampler\n",
        "# the default sampler for pymc3 is a type of MCMC sampler called No-U-turn HMC\n",
        "def sample_with_exponential_model(model, n=2000, tune_iters=2000):\n",
        "  with model:\n",
        "    #using default sampler\n",
        "    trace = pm.sample(n, tune=tune_iters, cores=4, chains=6, init='advi+adapt_diag')\n",
        "  return trace"
      ],
      "execution_count": 83,
      "outputs": []
    },
    {
      "cell_type": "code",
      "metadata": {
        "id": "rH--Q0qfsYnM"
      },
      "source": [
        "# return posterior mean and samples\n",
        "def burn_and_thin_posterior_samples(trace):\n",
        "  # defined burn-in\n",
        "  burn_in = .1\n",
        "  # define thinning\n",
        "  thin = 2\n",
        "  # N\n",
        "  N = len(trace['beta'])\n",
        "  # samples from posterior\n",
        "  beta_posterior_samples = trace['beta'][int(burn_in * N)::thin]\n",
        "  beta_posterior_mean = np.mean(beta_posterior_samples, axis=0)\n",
        "  return beta_posterior_mean, beta_posterior_samples"
      ],
      "execution_count": 84,
      "outputs": []
    },
    {
      "cell_type": "code",
      "metadata": {
        "id": "Ws6-JEuxRsFI"
      },
      "source": [
        "# plots traceplots for beta as a sanity check\n",
        "def plot_trace(beta_posterior_samples):\n",
        "  fig, ax = plt.subplots(1, 1, figsize=(10, 5))\n",
        "  ax.plot(range(len(beta_posterior_samples)), beta_posterior_samples, color='orange', alpha=0.5)\n",
        "  ax.set_title('trace plot for beta')\n",
        "\n",
        "  plt.show()"
      ],
      "execution_count": 85,
      "outputs": []
    },
    {
      "cell_type": "markdown",
      "metadata": {
        "id": "Wol56-MPndAe"
      },
      "source": [
        "### Nursing Home Data for Exponential Growth Model\n",
        "---"
      ]
    },
    {
      "cell_type": "code",
      "metadata": {
        "id": "XbJOpSpQ6Oqt"
      },
      "source": [
        "# one cross section of Ct values from NH 1\n",
        "first_week_nh1_cts = np.array(df1.loc[df1['collection_date'] == '2020-04-10']['N1'].dropna(how=\"any\"))"
      ],
      "execution_count": 29,
      "outputs": []
    },
    {
      "cell_type": "code",
      "metadata": {
        "colab": {
          "base_uri": "https://localhost:8080/"
        },
        "id": "cFUWy9tTtMGM",
        "outputId": "ed97f5c6-3fe9-43cf-e664-45dd4f7171b0"
      },
      "source": [
        "exp_model_nh1 = build_exponential_model_with_observed(first_week_nh1_cts)\n",
        "trace_nh1 = sample_with_exponential_model(exp_model_nh1, n=2000, tune_iters=2000)\n",
        "posterior_mean_nh1, posterior_samples_nh1 = burn_and_thin_posterior_samples(trace_nh1)"
      ],
      "execution_count": 30,
      "outputs": [
        {
          "output_type": "stream",
          "text": [
            "Auto-assigning NUTS sampler...\n",
            "Initializing NUTS using advi+adapt_diag...\n",
            "Average Loss = 177.07:   5%|▌         | 10041/200000 [00:11<03:40, 862.35it/s]\n",
            "Convergence achieved at 10100\n",
            "Interrupted at 10,099 [5%]: Average Loss = 217.51\n",
            "Multiprocess sampling (6 chains in 4 jobs)\n",
            "NUTS: [beta]\n",
            "Sampling 6 chains: 100%|██████████| 24000/24000 [00:24<00:00, 963.02draws/s]\n"
          ],
          "name": "stderr"
        }
      ]
    },
    {
      "cell_type": "code",
      "metadata": {
        "colab": {
          "base_uri": "https://localhost:8080/",
          "height": 336
        },
        "id": "GQ_uZkbnuH_v",
        "outputId": "f71274d9-341d-4f8e-c7f2-b88b5fca6737"
      },
      "source": [
        "plot_trace(posterior_samples_nh1)"
      ],
      "execution_count": 31,
      "outputs": [
        {
          "output_type": "display_data",
          "data": {
            "image/png": "[encoded data removed]",
            "text/plain": [
              "<Figure size 720x360 with 1 Axes>"
            ]
          },
          "metadata": {
            "tags": [],
            "needs_background": "light"
          }
        }
      ]
    },
    {
      "cell_type": "code",
      "metadata": {
        "colab": {
          "base_uri": "https://localhost:8080/"
        },
        "id": "HjWktZncQd0I",
        "outputId": "7c18f2d2-f42b-4656-a33b-9253a8dae210"
      },
      "source": [
        "print(posterior_mean_nh1)"
      ],
      "execution_count": 33,
      "outputs": [
        {
          "output_type": "stream",
          "text": [
            "0.09991428594035123\n"
          ],
          "name": "stdout"
        }
      ]
    },
    {
      "cell_type": "markdown",
      "metadata": {
        "id": "c1WGP50fn66n"
      },
      "source": [
        "### Simulated Data 0 for Exponential Growth Model\n",
        "---"
      ]
    },
    {
      "cell_type": "code",
      "metadata": {
        "id": "mh-VWERJhExp"
      },
      "source": [
        "df_sim0 = pd.read_csv('Simulation__cts.csv')\n",
        "test_times = df_sim0['t'].unique()"
      ],
      "execution_count": 86,
      "outputs": []
    },
    {
      "cell_type": "code",
      "metadata": {
        "colab": {
          "base_uri": "https://localhost:8080/"
        },
        "id": "eIpaP5S0wTJY",
        "outputId": "8f00fbdb-34c8-4a70-c43b-82e89a495cf4"
      },
      "source": [
        "test_times"
      ],
      "execution_count": 87,
      "outputs": [
        {
          "output_type": "execute_result",
          "data": {
            "text/plain": [
              "array([ 55,  69,  83,  97, 111, 125, 139, 153])"
            ]
          },
          "metadata": {
            "tags": []
          },
          "execution_count": 87
        }
      ]
    },
    {
      "cell_type": "code",
      "metadata": {
        "colab": {
          "base_uri": "https://localhost:8080/"
        },
        "id": "tToXDtOlupFk",
        "outputId": "a6a38d02-176b-4771-9695-fb49888d84f9"
      },
      "source": [
        "sim0_means = []\n",
        "sim0_samples = []\n",
        "for time in test_times:\n",
        "  cts = np.array(df_sim0.loc[df_sim0['t'] == time]['ct'])\n",
        "  exp_model_sim0 = build_exponential_model_with_observed(cts, time)\n",
        "  trace_sim0 = sample_with_exponential_model(exp_model_sim0, n=2000, tune_iters=3000)\n",
        "  posterior_mean_sim0, posterior_samples_sim0 = burn_and_thin_posterior_samples(trace_sim0)\n",
        "  sim0_means.append(posterior_mean_sim0)\n",
        "  sim0_samples.append(posterior_samples_sim0)"
      ],
      "execution_count": 92,
      "outputs": [
        {
          "output_type": "stream",
          "text": [
            "Auto-assigning NUTS sampler...\n",
            "Initializing NUTS using advi+adapt_diag...\n",
            "Average Loss = 8,562.7:   1%|          | 1895/200000 [00:03<05:15, 627.07it/s]\n",
            "Convergence achieved at 1900\n",
            "Interrupted at 1,899 [0%]: Average Loss = 8,631.9\n",
            "Multiprocess sampling (6 chains in 4 jobs)\n",
            "NUTS: [beta]\n",
            "Sampling 6 chains: 100%|██████████| 30000/30000 [01:07<00:00, 442.96draws/s]\n",
            "There was 1 divergence after tuning. Increase `target_accept` or reparameterize.\n",
            "There were 6 divergences after tuning. Increase `target_accept` or reparameterize.\n",
            "The acceptance probability does not match the target. It is 0.7082994262406568, but should be close to 0.8. Try to increase the number of tuning steps.\n",
            "The gelman-rubin statistic is larger than 1.4 for some parameters. The sampler did not converge.\n",
            "The estimated number of effective samples is smaller than 200 for some parameters.\n",
            "Auto-assigning NUTS sampler...\n",
            "Initializing NUTS using advi+adapt_diag...\n",
            "Average Loss = 7,741.5:   3%|▎         | 6356/200000 [00:10<05:32, 581.98it/s]\n",
            "Convergence achieved at 6400\n",
            "Interrupted at 6,399 [3%]: Average Loss = 8,163.1\n",
            "Multiprocess sampling (6 chains in 4 jobs)\n",
            "NUTS: [beta]\n",
            "Sampling 6 chains: 100%|██████████| 30000/30000 [01:08<00:00, 434.85draws/s]\n",
            "There was 1 divergence after tuning. Increase `target_accept` or reparameterize.\n",
            "The number of effective samples is smaller than 25% for some parameters.\n",
            "Auto-assigning NUTS sampler...\n",
            "Initializing NUTS using advi+adapt_diag...\n",
            "Average Loss = 7,698.7:   5%|▌         | 10145/200000 [00:17<05:28, 578.19it/s]\n",
            "Convergence achieved at 10200\n",
            "Interrupted at 10,199 [5%]: Average Loss = 8,091\n",
            "Multiprocess sampling (6 chains in 4 jobs)\n",
            "NUTS: [beta]\n",
            "Sampling 6 chains: 100%|██████████| 30000/30000 [01:10<00:00, 427.35draws/s]\n",
            "There was 1 divergence after tuning. Increase `target_accept` or reparameterize.\n",
            "There was 1 divergence after tuning. Increase `target_accept` or reparameterize.\n",
            "There was 1 divergence after tuning. Increase `target_accept` or reparameterize.\n",
            "Auto-assigning NUTS sampler...\n",
            "Initializing NUTS using advi+adapt_diag...\n",
            "Average Loss = 7,548.1:   5%|▍         | 9899/200000 [00:16<05:25, 584.23it/s]\n",
            "Convergence achieved at 9900\n",
            "Interrupted at 9,899 [4%]: Average Loss = 7,966.3\n",
            "Multiprocess sampling (6 chains in 4 jobs)\n",
            "NUTS: [beta]\n",
            "Sampling 6 chains: 100%|██████████| 30000/30000 [01:10<00:00, 426.52draws/s]\n",
            "There were 3 divergences after tuning. Increase `target_accept` or reparameterize.\n",
            "There were 2 divergences after tuning. Increase `target_accept` or reparameterize.\n",
            "There were 2 divergences after tuning. Increase `target_accept` or reparameterize.\n",
            "Auto-assigning NUTS sampler...\n",
            "Initializing NUTS using advi+adapt_diag...\n",
            "Average Loss = 7,212.6:   5%|▌         | 10571/200000 [00:18<05:22, 587.19it/s]\n",
            "Convergence achieved at 10600\n",
            "Interrupted at 10,599 [5%]: Average Loss = 7,574.7\n",
            "Multiprocess sampling (6 chains in 4 jobs)\n",
            "NUTS: [beta]\n",
            "Sampling 6 chains: 100%|██████████| 30000/30000 [01:09<00:00, 433.55draws/s]\n",
            "Auto-assigning NUTS sampler...\n",
            "Initializing NUTS using advi+adapt_diag...\n",
            "Average Loss = 8,233.2:   3%|▎         | 5272/200000 [00:09<05:45, 563.24it/s]\n",
            "Convergence achieved at 5300\n",
            "Interrupted at 5,299 [2%]: Average Loss = 8,634.2\n",
            "Multiprocess sampling (6 chains in 4 jobs)\n",
            "NUTS: [beta]\n",
            "Sampling 6 chains: 100%|██████████| 30000/30000 [01:10<00:00, 423.33draws/s]\n",
            "There were 2 divergences after tuning. Increase `target_accept` or reparameterize.\n",
            "There were 2 divergences after tuning. Increase `target_accept` or reparameterize.\n",
            "Auto-assigning NUTS sampler...\n",
            "Initializing NUTS using advi+adapt_diag...\n",
            "Average Loss = 7,888.8:   3%|▎         | 5291/200000 [00:09<05:32, 586.37it/s]\n",
            "Convergence achieved at 5300\n",
            "Interrupted at 5,299 [2%]: Average Loss = 8,277.3\n",
            "Multiprocess sampling (6 chains in 4 jobs)\n",
            "NUTS: [beta]\n",
            "Sampling 6 chains: 100%|██████████| 30000/30000 [01:08<00:00, 436.21draws/s]\n",
            "There was 1 divergence after tuning. Increase `target_accept` or reparameterize.\n",
            "There was 1 divergence after tuning. Increase `target_accept` or reparameterize.\n",
            "Auto-assigning NUTS sampler...\n",
            "Initializing NUTS using advi+adapt_diag...\n",
            "Average Loss = 7,592.8:   4%|▍         | 8435/200000 [00:14<05:35, 571.59it/s]\n",
            "Convergence achieved at 8500\n",
            "Interrupted at 8,499 [4%]: Average Loss = 7,960.5\n",
            "Multiprocess sampling (6 chains in 4 jobs)\n",
            "NUTS: [beta]\n",
            "Sampling 6 chains: 100%|██████████| 30000/30000 [01:07<00:00, 442.66draws/s]\n",
            "There was 1 divergence after tuning. Increase `target_accept` or reparameterize.\n",
            "There was 1 divergence after tuning. Increase `target_accept` or reparameterize.\n"
          ],
          "name": "stderr"
        }
      ]
    },
    {
      "cell_type": "code",
      "metadata": {
        "colab": {
          "base_uri": "https://localhost:8080/",
          "height": 336
        },
        "id": "j6hmx_hivKMT",
        "outputId": "b6830964-4f11-4b08-9687-c71bea508033"
      },
      "source": [
        "plot_trace(sim0_samples[5])"
      ],
      "execution_count": 93,
      "outputs": [
        {
          "output_type": "display_data",
          "data": {
            "image/png": "[encoded data removed]",
            "text/plain": [
              "<Figure size 720x360 with 1 Axes>"
            ]
          },
          "metadata": {
            "tags": [],
            "needs_background": "light"
          }
        }
      ]
    },
    {
      "cell_type": "code",
      "metadata": {
        "colab": {
          "base_uri": "https://localhost:8080/"
        },
        "id": "meCC7urh0tv-",
        "outputId": "d973a1fc-24f2-4438-cf22-cbcb6194a617"
      },
      "source": [
        "sim0_means"
      ],
      "execution_count": 94,
      "outputs": [
        {
          "output_type": "execute_result",
          "data": {
            "text/plain": [
              "[-0.19233286422345583,\n",
              " -0.7852690436510217,\n",
              " -0.7978524949978629,\n",
              " -0.818158272799223,\n",
              " -0.8057920865764842,\n",
              " -0.788724208218063,\n",
              " -0.7812655346455265,\n",
              " -0.7814956744559138]"
            ]
          },
          "metadata": {
            "tags": []
          },
          "execution_count": 94
        }
      ]
    },
    {
      "cell_type": "code",
      "metadata": {
        "colab": {
          "base_uri": "https://localhost:8080/",
          "height": 336
        },
        "id": "NIGuTQVGKdll",
        "outputId": "dc44acaa-696c-4c86-d205-9bde26d99fc3"
      },
      "source": [
        "df_sim0_seir_outpus = pd.read_csv(\"Simulation__seir_outputs.csv\")\n",
        "sim0_incs = np.array(df_sim0_seir_outpus[\"inc\"])\n",
        "\n",
        "# visualize results\n",
        "fig, ax = plt.subplots(1, 1, figsize=(10, 5)) # make a figure with one row and one column of size 10x5\n",
        "\n",
        "# Plot the prior samples\n",
        "ax.plot(np.arange(len(sim0_incs)), sim0_incs, color='blue')\n",
        "# Plot test times\n",
        "ax.scatter(test_times, sim0_incs[test_times], color='red')\n",
        "\n",
        "ax.set_title('Visualization of Incidences')\n",
        "\n",
        "plt.show() # display the figure"
      ],
      "execution_count": 69,
      "outputs": [
        {
          "output_type": "display_data",
          "data": {
            "image/png": "[encoded data removed]",
            "text/plain": [
              "<Figure size 720x360 with 1 Axes>"
            ]
          },
          "metadata": {
            "tags": [],
            "needs_background": "light"
          }
        }
      ]
    },
    {
      "cell_type": "code",
      "metadata": {
        "id": "2_WKL5JgLiDk"
      },
      "source": [
        "def daily_growth_rate(inc_t, inc_t1):\n",
        "  return np.log(inc_t1 / inc_t)"
      ],
      "execution_count": 70,
      "outputs": []
    },
    {
      "cell_type": "code",
      "metadata": {
        "id": "vB1PZnNZLSRH"
      },
      "source": [
        "true_rates = []\n",
        "# calculates true growth rate value from simulation outputs\n",
        "for time in test_times:\n",
        "  # calculate average growth rate\n",
        "  # look at average growth rate in the 35-day period\n",
        "  current_growth_rate = np.mean([daily_growth_rate(sim0_incs[time - i], sim0_incs[time]) for i in range(1, 36)])\n",
        "  true_rates.append(current_growth_rate)"
      ],
      "execution_count": 71,
      "outputs": []
    },
    {
      "cell_type": "code",
      "metadata": {
        "colab": {
          "base_uri": "https://localhost:8080/"
        },
        "id": "toY_ab9FMaZi",
        "outputId": "a0f86643-d43f-4ffe-ac23-6456608ac8a1"
      },
      "source": [
        "true_rates"
      ],
      "execution_count": 72,
      "outputs": [
        {
          "output_type": "execute_result",
          "data": {
            "text/plain": [
              "[1.661898144361474,\n",
              " 1.5142781269146122,\n",
              " 1.1150064282014582,\n",
              " 0.28203806393090125,\n",
              " -0.7244587056938885,\n",
              " -1.3005068949603493,\n",
              " -1.4047082381428428,\n",
              " -1.441386824077808]"
            ]
          },
          "metadata": {
            "tags": []
          },
          "execution_count": 72
        }
      ]
    },
    {
      "cell_type": "code",
      "metadata": {
        "colab": {
          "base_uri": "https://localhost:8080/",
          "height": 336
        },
        "id": "Mk8mDEdmMdY5",
        "outputId": "29394a59-ebe0-4daf-daa8-5c8b78ca5fb3"
      },
      "source": [
        "# visualize results\n",
        "fig, ax = plt.subplots(1, 1, figsize=(10, 5)) # make a figure with one row and one column of size 10x5\n",
        "\n",
        "# Plot the prior samples\n",
        "ax.plot(np.arange(len(true_rates)), true_rates, color='blue')\n",
        "\n",
        "ax.set_title('Visualization of Average Growth Rate for Time Stamp')\n",
        "\n",
        "plt.show() # display the figure"
      ],
      "execution_count": 57,
      "outputs": [
        {
          "output_type": "display_data",
          "data": {
            "image/png": "[encoded data removed]",
            "text/plain": [
              "<Figure size 720x360 with 1 Axes>"
            ]
          },
          "metadata": {
            "tags": [],
            "needs_background": "light"
          }
        }
      ]
    },
    {
      "cell_type": "markdown",
      "metadata": {
        "id": "-3Cz-NReRm0f"
      },
      "source": [
        "#### SEIR Model\n",
        "---\n",
        "* Assumes growth rate changes daily depending on the remaining number of susceptible individuals "
      ]
    },
    {
      "cell_type": "code",
      "metadata": {
        "id": "etylkp3XRha4"
      },
      "source": [
        ""
      ],
      "execution_count": null,
      "outputs": []
    },
    {
      "cell_type": "markdown",
      "metadata": {
        "id": "0_cABbokBaCJ"
      },
      "source": [
        "ANNA TODO:\n",
        "* https://github.com/pargaw/cs288project/tree/main/virosolver_paper/data/ONS_sim\n",
        "* use Scenario 1 (out of state travel) and Scenario 2 (temporal e.g. college town)\n",
        "* run on exponential growth model and SEIR model"
      ]
    }
  ]
}